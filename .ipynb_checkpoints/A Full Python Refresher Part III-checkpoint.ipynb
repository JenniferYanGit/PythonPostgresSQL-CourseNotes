{
 "cells": [
  {
   "cell_type": "markdown",
   "metadata": {},
   "source": [
    "# Object-Oriented Programming"
   ]
  },
  {
   "cell_type": "markdown",
   "metadata": {},
   "source": [
    "### The purpose of Object-Oriented Programming is to make our lifes easier as developers. "
   ]
  },
  {
   "cell_type": "markdown",
   "metadata": {},
   "source": [
    "#### Below is an exmaple of non object-oriented programming example."
   ]
  },
  {
   "cell_type": "code",
   "execution_count": 1,
   "metadata": {},
   "outputs": [
    {
     "name": "stdout",
     "output_type": "stream",
     "text": [
      "88.0\n"
     ]
    }
   ],
   "source": [
    "student = {\"name\": \"Rolf\", \"grades\":(89, 90, 93, 78, 90)}\n",
    "\n",
    "def average(sequence):\n",
    "    return sum(sequence) / len(sequence)\n",
    "\n",
    "print(average(student[\"grades\"]))"
   ]
  },
  {
   "cell_type": "markdown",
   "metadata": {},
   "source": [
    "#### Let's rewrite the above code using object-oriented programming."
   ]
  },
  {
   "cell_type": "code",
   "execution_count": 2,
   "metadata": {},
   "outputs": [
    {
     "name": "stdout",
     "output_type": "stream",
     "text": [
      "Rolf\n",
      "(90, 90, 93, 78, 90)\n",
      "88.2\n"
     ]
    }
   ],
   "source": [
    "class Student:\n",
    "    def __init__(self):\n",
    "        self.name = \"Rolf\"\n",
    "        self.grades = (90, 90, 93, 78, 90)\n",
    "    \n",
    "    def average_grade(self):\n",
    "        return sum(self.grades)/ len(self.grades)\n",
    "        \n",
    "student = Student()\n",
    "print(student.name) \n",
    "print(student.grades)\n",
    "print(student.average_grade())"
   ]
  },
  {
   "cell_type": "markdown",
   "metadata": {},
   "source": [
    "##### The benefit of Object-Oriented Programming is that you can define your own class. Have variables and methods with in the class, so all the data and methods are in one place.  "
   ]
  },
  {
   "cell_type": "markdown",
   "metadata": {},
   "source": [
    "### The __init__ method can have its parameters as well."
   ]
  },
  {
   "cell_type": "code",
   "execution_count": 3,
   "metadata": {},
   "outputs": [
    {
     "name": "stdout",
     "output_type": "stream",
     "text": [
      "Bob\n",
      "(100, 100, 93, 78, 90)\n",
      "92.2\n",
      "Rolf\n",
      "(90, 90, 93, 78, 90)\n",
      "88.2\n"
     ]
    }
   ],
   "source": [
    "class Student:\n",
    "    def __init__(self, name, grades):\n",
    "        self.name = name\n",
    "        self.grades = grades\n",
    "    \n",
    "    def average_grade(self):\n",
    "        return sum(self.grades)/ len(self.grades)\n",
    "        \n",
    "student = Student(\"Bob\", (100, 100, 93, 78, 90))\n",
    "student2 = Student(\"Rolf\", (90, 90, 93, 78, 90))\n",
    "\n",
    "print(student.name) \n",
    "print(student.grades)\n",
    "print(student.average_grade())\n",
    "\n",
    "print(student2.name) \n",
    "print(student2.grades)\n",
    "print(student2.average_grade())"
   ]
  },
  {
   "cell_type": "markdown",
   "metadata": {},
   "source": [
    "# Magic methods: __str__ and __repr__"
   ]
  },
  {
   "cell_type": "markdown",
   "metadata": {},
   "source": [
    "#### In python, methods with two underscores on each side are special methods and also called magic methods at times, because python will call them for you in some situations.\n",
    "#### For example, python will call the __init__ even you didn't type it."
   ]
  },
  {
   "cell_type": "code",
   "execution_count": 4,
   "metadata": {},
   "outputs": [
    {
     "name": "stdout",
     "output_type": "stream",
     "text": [
      "<__main__.Person object at 0x000001DB82DB3970>\n"
     ]
    }
   ],
   "source": [
    "class Person:\n",
    "    def __init__(self, name, age):\n",
    "        self.name = name\n",
    "        self.age = age\n",
    "\n",
    "bob = Person(\"Bob\", 35)\n",
    "print(bob)"
   ]
  },
  {
   "cell_type": "markdown",
   "metadata": {},
   "source": [
    "##### This will print the string that represents the \"Bob\" object."
   ]
  },
  {
   "cell_type": "markdown",
   "metadata": {},
   "source": [
    "#### The above printout can be challenging to read. We can change the printout of the object. So in the following situation, people can make use of the object information. This can be achived using the __str__ method."
   ]
  },
  {
   "cell_type": "code",
   "execution_count": 5,
   "metadata": {},
   "outputs": [
    {
     "name": "stdout",
     "output_type": "stream",
     "text": [
      "Person Bob, 35 years old.\n"
     ]
    }
   ],
   "source": [
    "class Person:\n",
    "    def __init__(self, name, age):\n",
    "        self.name = name\n",
    "        self.age = age\n",
    "    \n",
    "    def __str__(self):\n",
    "        return f\"Person {self.name}, {self.age} years old.\"\n",
    "    \n",
    "    def __repr__(self):\n",
    "        return f\"<Person('{self.name}', {self.age})>\"\n",
    "\n",
    "bob = Person(\"Bob\", 35)\n",
    "print(bob)"
   ]
  },
  {
   "cell_type": "markdown",
   "metadata": {},
   "source": [
    "#### You can also print out the object for programmers, in case you want to recreate the object. This can be achived by using the __repr__ method. This method can create an unambiguous representation of the object.\n",
    "\n",
    "#### When you have both the __str__ and __repr__ methods defined. In order to see the printout from __repr__, you will need to hash the __str__ section."
   ]
  },
  {
   "cell_type": "code",
   "execution_count": 6,
   "metadata": {},
   "outputs": [
    {
     "name": "stdout",
     "output_type": "stream",
     "text": [
      "<Person('Bob', 35)>\n"
     ]
    }
   ],
   "source": [
    "class Person:\n",
    "    def __init__(self, name, age):\n",
    "        self.name = name\n",
    "        self.age = age\n",
    "    \n",
    "    #def __str__(self):\n",
    "        #return f\"Person {self.name}, {self.age} years old.\"\n",
    "    \n",
    "    def __repr__(self):\n",
    "        # to be unambiguous\n",
    "        return f\"<Person('{self.name}', {self.age})>\"\n",
    "\n",
    "bob = Person(\"Bob\", 35)\n",
    "print(bob)"
   ]
  },
  {
   "cell_type": "markdown",
   "metadata": {},
   "source": [
    "# Class methods and static methods "
   ]
  },
  {
   "cell_type": "markdown",
   "metadata": {},
   "source": [
    "### Instance Method"
   ]
  },
  {
   "cell_type": "code",
   "execution_count": 1,
   "metadata": {},
   "outputs": [
    {
     "name": "stdout",
     "output_type": "stream",
     "text": [
      "Called Instance_method of <__main__.ClassTest object at 0x0000024728ECD700>\n",
      "Called Instance_method of <__main__.ClassTest object at 0x0000024728ECD700>\n"
     ]
    }
   ],
   "source": [
    "class ClassTest:\n",
    "    def instance_method(self):\n",
    "        print(f\"Called Instance_method of {self}\")\n",
    "\n",
    "test = ClassTest()\n",
    "test.instance_method()\n",
    "ClassTest.instance_method(test)\n",
    "      "
   ]
  },
  {
   "cell_type": "markdown",
   "metadata": {},
   "source": [
    "#### Instance methods are used for most things. When you want to produe an action that uses the data inside the object that you created earlier on for example, that is when instance methods would get used. Also if you want to call a method to modify the data inside itself or the object, then you would also use an instance method. "
   ]
  },
  {
   "cell_type": "markdown",
   "metadata": {},
   "source": [
    "### Class Method"
   ]
  },
  {
   "cell_type": "code",
   "execution_count": 2,
   "metadata": {},
   "outputs": [
    {
     "name": "stdout",
     "output_type": "stream",
     "text": [
      "Called Instance_method of <class '__main__.ClassTest'>\n"
     ]
    }
   ],
   "source": [
    "class ClassTest:\n",
    "    def instance_method(self):\n",
    "        print(f\"Called Instance_method of {self}\")\n",
    "    \n",
    "    @classmethod\n",
    "    def class_method(cls):\n",
    "        print(f\"Called Instance_method of {cls}\")\n",
    "\n",
    "ClassTest.class_method()"
   ]
  },
  {
   "cell_type": "markdown",
   "metadata": {},
   "source": [
    "#### Class method are used often as factories."
   ]
  },
  {
   "cell_type": "markdown",
   "metadata": {},
   "source": [
    "### Static Methods "
   ]
  },
  {
   "cell_type": "code",
   "execution_count": 3,
   "metadata": {},
   "outputs": [
    {
     "name": "stdout",
     "output_type": "stream",
     "text": [
      "Called Instance_method.\n"
     ]
    }
   ],
   "source": [
    "class ClassTest:\n",
    "    def instance_method(self):\n",
    "        print(f\"Called Instance_method of {self}\")\n",
    "    \n",
    "    @classmethod\n",
    "    def class_method(cls):\n",
    "        print(f\"Called Instance_method of {cls}\")\n",
    "    \n",
    "    @staticmethod\n",
    "    def static_method():\n",
    "        print(\"Called Instance_method.\")\n",
    "\n",
    "ClassTest.static_method()"
   ]
  },
  {
   "cell_type": "markdown",
   "metadata": {},
   "source": [
    "Static methods are used just to place a method insde a class, for example, as a developer for code organization. Most of the cases, you will use instance and class methods. You won't be using static methods all that much."
   ]
  },
  {
   "cell_type": "markdown",
   "metadata": {},
   "source": [
    "### An example of the Class method"
   ]
  },
  {
   "cell_type": "markdown",
   "metadata": {},
   "source": [
    "#### In a class, you can define variables. They are called class properties.  "
   ]
  },
  {
   "cell_type": "code",
   "execution_count": 4,
   "metadata": {},
   "outputs": [
    {
     "name": "stdout",
     "output_type": "stream",
     "text": [
      "('hardcover', 'paperback')\n"
     ]
    }
   ],
   "source": [
    "class Book:\n",
    "    TYPES = (\"hardcover\", \"paperback\")\n",
    "\n",
    "print(Book.TYPES)"
   ]
  },
  {
   "cell_type": "code",
   "execution_count": 9,
   "metadata": {},
   "outputs": [
    {
     "name": "stdout",
     "output_type": "stream",
     "text": [
      "<Book Harry Potter, hardcover, weighing 1500g>\n"
     ]
    }
   ],
   "source": [
    "class Book:\n",
    "    TYPES = (\"hardcover\", \"paperback\")\n",
    "    \n",
    "    def __init__(self, name, book_type, weight):\n",
    "        self.name = name\n",
    "        self.book_type = book_type\n",
    "        self.weight = weight\n",
    "    \n",
    "    def __repr__(self):\n",
    "        return f\"<Book {self.name}, {self.book_type}, weighing {self.weight}g>\"\n",
    "\n",
    "book = Book(\"Harry Potter\", \"hardcover\", 1500)\n",
    "print(book)"
   ]
  },
  {
   "cell_type": "markdown",
   "metadata": {},
   "source": [
    "#### Now I want to use the Class Method to limit the type of the books to only \"hardcover\" or \"paperback\". "
   ]
  },
  {
   "cell_type": "code",
   "execution_count": 13,
   "metadata": {},
   "outputs": [
    {
     "name": "stdout",
     "output_type": "stream",
     "text": [
      "<Book Harry Potter, paperback, weighing 1500g>\n",
      "<Book Python 101, paperback, weighing 600g>\n"
     ]
    }
   ],
   "source": [
    "class Book:\n",
    "    TYPES = (\"hardcover\", \"paperback\")\n",
    "    \n",
    "    def __init__(self, name, book_type, weight):\n",
    "        self.name = name\n",
    "        self.book_type = book_type\n",
    "        self.weight = weight\n",
    "    \n",
    "    def __repr__(self):\n",
    "        return f\"<Book {self.name}, {self.book_type}, weighing {self.weight}g>\"\n",
    "    \n",
    "    @classmethod\n",
    "    def hardcover(cls, name, page_weight):\n",
    "        return cls(name, cls.TYPES[0], page_weight + 100)\n",
    "\n",
    "    @classmethod\n",
    "    def hardcover(cls, name, page_weight):\n",
    "        return cls(name, cls.TYPES[1], page_weight)\n",
    "    \n",
    "book = Book.hardcover(\"Harry Potter\", 1500)\n",
    "light = Book.hardcover(\"Python 101\", 600)\n",
    "\n",
    "print(book)\n",
    "print(light)"
   ]
  },
  {
   "cell_type": "code",
   "execution_count": null,
   "metadata": {},
   "outputs": [],
   "source": []
  }
 ],
 "metadata": {
  "kernelspec": {
   "display_name": "Python 3",
   "language": "python",
   "name": "python3"
  },
  "language_info": {
   "codemirror_mode": {
    "name": "ipython",
    "version": 3
   },
   "file_extension": ".py",
   "mimetype": "text/x-python",
   "name": "python",
   "nbconvert_exporter": "python",
   "pygments_lexer": "ipython3",
   "version": "3.8.5"
  }
 },
 "nbformat": 4,
 "nbformat_minor": 4
}
