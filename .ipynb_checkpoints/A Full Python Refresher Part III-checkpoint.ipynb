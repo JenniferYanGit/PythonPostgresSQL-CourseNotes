{
 "cells": [
  {
   "cell_type": "markdown",
   "metadata": {},
   "source": [
    "# Object-Oriented Programming"
   ]
  },
  {
   "cell_type": "markdown",
   "metadata": {},
   "source": [
    "### The purpose of Object-Oriented Programming is to make our lifes easier as developers. "
   ]
  },
  {
   "cell_type": "markdown",
   "metadata": {},
   "source": [
    "#### Below is an exmaple of non object-oriented programming example."
   ]
  },
  {
   "cell_type": "code",
   "execution_count": 1,
   "metadata": {},
   "outputs": [
    {
     "name": "stdout",
     "output_type": "stream",
     "text": [
      "88.0\n"
     ]
    }
   ],
   "source": [
    "student = {\"name\": \"Rolf\", \"grades\":(89, 90, 93, 78, 90)}\n",
    "\n",
    "def average(sequence):\n",
    "    return sum(sequence) / len(sequence)\n",
    "\n",
    "print(average(student[\"grades\"]))"
   ]
  },
  {
   "cell_type": "markdown",
   "metadata": {},
   "source": [
    "#### Let's rewrite the above code using object-oriented programming."
   ]
  },
  {
   "cell_type": "code",
   "execution_count": 2,
   "metadata": {},
   "outputs": [
    {
     "name": "stdout",
     "output_type": "stream",
     "text": [
      "Rolf\n",
      "(90, 90, 93, 78, 90)\n",
      "88.2\n"
     ]
    }
   ],
   "source": [
    "class Student:\n",
    "    def __init__(self):\n",
    "        self.name = \"Rolf\"\n",
    "        self.grades = (90, 90, 93, 78, 90)\n",
    "    \n",
    "    def average_grade(self):\n",
    "        return sum(self.grades)/ len(self.grades)\n",
    "        \n",
    "student = Student()\n",
    "print(student.name) \n",
    "print(student.grades)\n",
    "print(student.average_grade())"
   ]
  },
  {
   "cell_type": "markdown",
   "metadata": {},
   "source": [
    "##### The benefit of Object-Oriented Programming is that you can define your own class. Have variables and methods with in the class, so all the data and methods are in one place.  "
   ]
  },
  {
   "cell_type": "markdown",
   "metadata": {},
   "source": [
    "### The __init__ method can have its parameters as well."
   ]
  },
  {
   "cell_type": "code",
   "execution_count": 3,
   "metadata": {},
   "outputs": [
    {
     "name": "stdout",
     "output_type": "stream",
     "text": [
      "Bob\n",
      "(100, 100, 93, 78, 90)\n",
      "92.2\n",
      "Rolf\n",
      "(90, 90, 93, 78, 90)\n",
      "88.2\n"
     ]
    }
   ],
   "source": [
    "class Student:\n",
    "    def __init__(self, name, grades):\n",
    "        self.name = name\n",
    "        self.grades = grades\n",
    "    \n",
    "    def average_grade(self):\n",
    "        return sum(self.grades)/ len(self.grades)\n",
    "        \n",
    "student = Student(\"Bob\", (100, 100, 93, 78, 90))\n",
    "student2 = Student(\"Rolf\", (90, 90, 93, 78, 90))\n",
    "\n",
    "print(student.name) \n",
    "print(student.grades)\n",
    "print(student.average_grade())\n",
    "\n",
    "print(student2.name) \n",
    "print(student2.grades)\n",
    "print(student2.average_grade())"
   ]
  },
  {
   "cell_type": "markdown",
   "metadata": {},
   "source": [
    "# Magic methods: __str__ and __repr__"
   ]
  },
  {
   "cell_type": "markdown",
   "metadata": {},
   "source": [
    "#### In python, methods with two underscores on each side are special methods and also called magic methods at times, because python will call them for you in some situations.\n",
    "#### For example, python will call the __init__ even you didn't type it."
   ]
  },
  {
   "cell_type": "code",
   "execution_count": 4,
   "metadata": {},
   "outputs": [
    {
     "name": "stdout",
     "output_type": "stream",
     "text": [
      "<__main__.Person object at 0x000001DB82DB3970>\n"
     ]
    }
   ],
   "source": [
    "class Person:\n",
    "    def __init__(self, name, age):\n",
    "        self.name = name\n",
    "        self.age = age\n",
    "\n",
    "bob = Person(\"Bob\", 35)\n",
    "print(bob)"
   ]
  },
  {
   "cell_type": "markdown",
   "metadata": {},
   "source": [
    "##### This will print the string that represents the \"Bob\" object."
   ]
  },
  {
   "cell_type": "markdown",
   "metadata": {},
   "source": [
    "#### The above printout can be challenging to read. We can change the printout of the object. So in the following situation, people can make use of the object information. This can be achived using the __str__ method."
   ]
  },
  {
   "cell_type": "code",
   "execution_count": 5,
   "metadata": {},
   "outputs": [
    {
     "name": "stdout",
     "output_type": "stream",
     "text": [
      "Person Bob, 35 years old.\n"
     ]
    }
   ],
   "source": [
    "class Person:\n",
    "    def __init__(self, name, age):\n",
    "        self.name = name\n",
    "        self.age = age\n",
    "    \n",
    "    def __str__(self):\n",
    "        return f\"Person {self.name}, {self.age} years old.\"\n",
    "    \n",
    "    def __repr__(self):\n",
    "        return f\"<Person('{self.name}', {self.age})>\"\n",
    "\n",
    "bob = Person(\"Bob\", 35)\n",
    "print(bob)"
   ]
  },
  {
   "cell_type": "markdown",
   "metadata": {},
   "source": [
    "#### You can also print out the object for programmers, in case you want to recreate the object. This can be achived by using the __repr__ method. This method can create an unambiguous representation of the object.\n",
    "\n",
    "#### When you have both the __str__ and __repr__ methods defined. In order to see the printout from __repr__, you will need to hash the __str__ section."
   ]
  },
  {
   "cell_type": "code",
   "execution_count": 6,
   "metadata": {},
   "outputs": [
    {
     "name": "stdout",
     "output_type": "stream",
     "text": [
      "<Person('Bob', 35)>\n"
     ]
    }
   ],
   "source": [
    "class Person:\n",
    "    def __init__(self, name, age):\n",
    "        self.name = name\n",
    "        self.age = age\n",
    "    \n",
    "    #def __str__(self):\n",
    "        #return f\"Person {self.name}, {self.age} years old.\"\n",
    "    \n",
    "    def __repr__(self):\n",
    "        # to be unambiguous\n",
    "        return f\"<Person('{self.name}', {self.age})>\"\n",
    "\n",
    "bob = Person(\"Bob\", 35)\n",
    "print(bob)"
   ]
  },
  {
   "cell_type": "code",
   "execution_count": null,
   "metadata": {},
   "outputs": [],
   "source": []
  }
 ],
 "metadata": {
  "kernelspec": {
   "display_name": "Python 3",
   "language": "python",
   "name": "python3"
  },
  "language_info": {
   "codemirror_mode": {
    "name": "ipython",
    "version": 3
   },
   "file_extension": ".py",
   "mimetype": "text/x-python",
   "name": "python",
   "nbconvert_exporter": "python",
   "pygments_lexer": "ipython3",
   "version": "3.8.5"
  }
 },
 "nbformat": 4,
 "nbformat_minor": 4
}
