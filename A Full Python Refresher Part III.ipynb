{
 "cells": [
  {
   "cell_type": "markdown",
   "metadata": {},
   "source": [
    "# Object-Oriented Programming"
   ]
  },
  {
   "cell_type": "markdown",
   "metadata": {},
   "source": [
    "### The purpose of Object-Oriented Programming is to make our lifes as developers easier. "
   ]
  },
  {
   "cell_type": "markdown",
   "metadata": {},
   "source": [
    "#### Below is an exmaple of non object-oriented programming example."
   ]
  },
  {
   "cell_type": "code",
   "execution_count": 1,
   "metadata": {},
   "outputs": [
    {
     "name": "stdout",
     "output_type": "stream",
     "text": [
      "88.0\n"
     ]
    }
   ],
   "source": [
    "student = {\"name\": \"Rolf\", \"grades\":(89, 90, 93, 78, 90)}\n",
    "\n",
    "def average(sequence):\n",
    "    return sum(sequence) / len(sequence)\n",
    "\n",
    "print(average(student[\"grades\"]))"
   ]
  },
  {
   "cell_type": "markdown",
   "metadata": {},
   "source": [
    "#### Let's rewrite the above code using object-oriented programming."
   ]
  },
  {
   "cell_type": "code",
   "execution_count": 2,
   "metadata": {},
   "outputs": [
    {
     "name": "stdout",
     "output_type": "stream",
     "text": [
      "Rolf\n",
      "(90, 90, 93, 78, 90)\n",
      "88.2\n"
     ]
    }
   ],
   "source": [
    "class Student:\n",
    "    def __init__(self):\n",
    "        self.name = \"Rolf\"\n",
    "        self.grades = (90, 90, 93, 78, 90)\n",
    "    \n",
    "    def average_grade(self):\n",
    "        return sum(self.grades)/ len(self.grades)\n",
    "        \n",
    "student = Student()\n",
    "print(student.name) \n",
    "print(student.grades)\n",
    "print(student.average_grade())"
   ]
  },
  {
   "cell_type": "markdown",
   "metadata": {},
   "source": [
    "##### The benefit of Object-Oriented Programming is that you can define your own class. Have variables and methods with in the class, so all the data and methods are in one place.  "
   ]
  },
  {
   "cell_type": "markdown",
   "metadata": {},
   "source": [
    "### The __init__ method can have its parameters as well."
   ]
  },
  {
   "cell_type": "code",
   "execution_count": 3,
   "metadata": {},
   "outputs": [
    {
     "name": "stdout",
     "output_type": "stream",
     "text": [
      "Bob\n",
      "(100, 100, 93, 78, 90)\n",
      "92.2\n",
      "Rolf\n",
      "(90, 90, 93, 78, 90)\n",
      "88.2\n"
     ]
    }
   ],
   "source": [
    "class Student:\n",
    "    def __init__(self, name, grades):\n",
    "        self.name = name\n",
    "        self.grades = grades\n",
    "    \n",
    "    def average_grade(self):\n",
    "        return sum(self.grades)/ len(self.grades)\n",
    "        \n",
    "student = Student(\"Bob\", (100, 100, 93, 78, 90))\n",
    "student2 = Student(\"Rolf\", (90, 90, 93, 78, 90))\n",
    "\n",
    "print(student.name) \n",
    "print(student.grades)\n",
    "print(student.average_grade())\n",
    "\n",
    "print(student2.name) \n",
    "print(student2.grades)\n",
    "print(student2.average_grade())"
   ]
  },
  {
   "cell_type": "code",
   "execution_count": null,
   "metadata": {},
   "outputs": [],
   "source": []
  }
 ],
 "metadata": {
  "kernelspec": {
   "display_name": "Python 3",
   "language": "python",
   "name": "python3"
  },
  "language_info": {
   "codemirror_mode": {
    "name": "ipython",
    "version": 3
   },
   "file_extension": ".py",
   "mimetype": "text/x-python",
   "name": "python",
   "nbconvert_exporter": "python",
   "pygments_lexer": "ipython3",
   "version": "3.8.5"
  }
 },
 "nbformat": 4,
 "nbformat_minor": 4
}
